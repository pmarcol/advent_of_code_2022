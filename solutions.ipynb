{
 "cells": [
  {
   "cell_type": "markdown",
   "id": "3f869ac7-aca0-4123-bdec-af0f4eb2ad01",
   "metadata": {},
   "source": [
    "# day 1"
   ]
  },
  {
   "cell_type": "code",
   "execution_count": 1,
   "id": "5795836f-76f1-41e9-a09a-a26421fbbf9f",
   "metadata": {},
   "outputs": [],
   "source": [
    "with open(\"./inputs/puzzle_01_01.txt\") as f:\n",
    "    input_ = f.read().strip()"
   ]
  },
  {
   "cell_type": "code",
   "execution_count": 2,
   "id": "0e26f856-7299-47ff-b3ff-16261e5a3da7",
   "metadata": {},
   "outputs": [],
   "source": [
    "values_per_elf = [[int(val) for val in entry.split(\"\\n\")] for entry in input_.split(\"\\n\\n\")]\n",
    "max_ = 0\n",
    "max_idx = 0\n",
    "for elf_idx, elf_vals in enumerate(values_per_elf):\n",
    "    if (t:=sum(elf_vals)) > max_:\n",
    "        max_ = t\n",
    "        max_idx = elf_idx"
   ]
  },
  {
   "cell_type": "markdown",
   "id": "6b1e1e9c-9d38-4862-a037-55cdf8d0ab75",
   "metadata": {},
   "source": [
    "## #1"
   ]
  },
  {
   "cell_type": "code",
   "execution_count": 3,
   "id": "be376260-1f08-46cc-9ee2-17a4f75c3854",
   "metadata": {},
   "outputs": [
    {
     "name": "stdout",
     "output_type": "stream",
     "text": [
      "elf number 68 has total of 71023 calories.\n"
     ]
    }
   ],
   "source": [
    "print(f\"elf number {max_idx} has total of {max_} calories.\")\n"
   ]
  },
  {
   "cell_type": "markdown",
   "id": "ffecb43a-c06c-41cf-8c63-62d197ac84a0",
   "metadata": {},
   "source": [
    "## #2"
   ]
  },
  {
   "cell_type": "code",
   "execution_count": 4,
   "id": "6b644e6d-f046-4214-b729-3a44a1034c7b",
   "metadata": {},
   "outputs": [],
   "source": [
    "elves_sums = [sum(elf_values) for elf_values in values_per_elf]"
   ]
  },
  {
   "cell_type": "code",
   "execution_count": 5,
   "id": "918b947f-7b38-458e-9420-ca2d33ce3c34",
   "metadata": {},
   "outputs": [
    {
     "data": {
      "text/plain": [
       "206289"
      ]
     },
     "execution_count": 5,
     "metadata": {},
     "output_type": "execute_result"
    }
   ],
   "source": [
    "sum(sorted(elves_sums)[-3:])"
   ]
  },
  {
   "cell_type": "markdown",
   "id": "0de4cf8a-36b8-4591-8651-a1371be758be",
   "metadata": {},
   "source": [
    "# day 2"
   ]
  },
  {
   "cell_type": "code",
   "execution_count": 6,
   "id": "cb5cd1ed-c6e0-46bf-9d81-cdaf25b6d308",
   "metadata": {},
   "outputs": [],
   "source": [
    "with open(\"./inputs/puzzle_02_01.txt\") as f:\n",
    "    input_ = f.read().strip()"
   ]
  },
  {
   "cell_type": "markdown",
   "id": "abf7e62d-9823-46b0-bbd2-18e210afd324",
   "metadata": {},
   "source": [
    "## #1"
   ]
  },
  {
   "cell_type": "code",
   "execution_count": 7,
   "id": "5c1f2292-628f-479d-a6fb-45c849b6c9eb",
   "metadata": {},
   "outputs": [],
   "source": [
    "# mapping\n",
    "# [R, P, S]\n",
    "mapping_1 = ['A', 'B', 'C']\n",
    "mapping_2_to_1 = {'X': 'A', 'Y': 'B', 'Z': 'C'}\n",
    "points_per_gesture = [1, 2, 3]\n",
    "\n",
    "points_for_outcome = [3, 6, 0] # [idx0: points_for_draw, idx1: points_for_win, idx2=idx-1: points_for_lose]"
   ]
  },
  {
   "cell_type": "code",
   "execution_count": 8,
   "id": "f87ee753-894d-4459-acac-9ae733db65ed",
   "metadata": {},
   "outputs": [],
   "source": [
    "def pointer(in1, in2, use_2_to_1_mapping=False):\n",
    "    rel_matrix = [[0, 1, -1], [-1, 0, 1], [1, -1, 0]]\n",
    "    idx1 = mapping_1.index(in1)\n",
    "    idx2 = mapping_1.index(mapping_2_to_1[in2]) if use_2_to_1_mapping else mapping_1.index(in2)\n",
    "    outcome = rel_matrix[idx1][idx2]\n",
    "    points = points_for_outcome[outcome] + points_per_gesture[idx2]\n",
    "    return points"
   ]
  },
  {
   "cell_type": "code",
   "execution_count": 9,
   "id": "79b0c10e-93ee-4f19-87f8-26bb7929df6c",
   "metadata": {},
   "outputs": [
    {
     "data": {
      "text/plain": [
       "9651"
      ]
     },
     "execution_count": 9,
     "metadata": {},
     "output_type": "execute_result"
    }
   ],
   "source": [
    "sum([pointer(*line.split(\" \"), True) for line in input_.split(\"\\n\")])"
   ]
  },
  {
   "cell_type": "markdown",
   "id": "6980a8d2-ff85-4cdc-a6b7-cc5155a850c5",
   "metadata": {},
   "source": [
    "## #2"
   ]
  },
  {
   "cell_type": "code",
   "execution_count": 10,
   "id": "46f60c8b-7d02-4bad-9f80-cc8f72060cb9",
   "metadata": {},
   "outputs": [],
   "source": [
    "mapping_outcome = {'X': -1, 'Y': 0, 'Z': 1}\n",
    "p1_gestures = [line[0] for line in input_.split(\"\\n\")]\n",
    "desired_outcomes = [line[2] for line in input_.split(\"\\n\")]"
   ]
  },
  {
   "cell_type": "code",
   "execution_count": 11,
   "id": "1d8bf18f-2d0e-41a0-81ee-d9427e2f57b1",
   "metadata": {},
   "outputs": [],
   "source": [
    "def get_desired_gesture(p1_gesture, desired_outcome):\n",
    "    idx1 = mapping_1.index(p1_gesture)\n",
    "    idx2 = (idx1 + mapping_outcome[desired_outcome]) % 3\n",
    "    return mapping_1[idx2]"
   ]
  },
  {
   "cell_type": "code",
   "execution_count": 12,
   "id": "e7849ec5-ffe3-45e9-bc15-9065ef1bc667",
   "metadata": {},
   "outputs": [],
   "source": [
    "desired_gestures = [get_desired_gesture(p1_g, do) for p1_g, do in zip(p1_gestures, desired_outcomes)]"
   ]
  },
  {
   "cell_type": "code",
   "execution_count": 13,
   "id": "1f2228f6-91c8-4679-9012-da04ee54cc07",
   "metadata": {},
   "outputs": [
    {
     "data": {
      "text/plain": [
       "10560"
      ]
     },
     "execution_count": 13,
     "metadata": {},
     "output_type": "execute_result"
    }
   ],
   "source": [
    "sum([pointer(p1_g, p2_g, False) for p1_g, p2_g in zip(p1_gestures, desired_gestures)])"
   ]
  },
  {
   "cell_type": "markdown",
   "id": "89c96fd2-0df4-4eae-99c2-5a8c369f9aaa",
   "metadata": {},
   "source": [
    "# day 3"
   ]
  },
  {
   "cell_type": "code",
   "execution_count": 14,
   "id": "f15314f3-f171-45dc-acf8-8bf26a80a4ca",
   "metadata": {},
   "outputs": [],
   "source": [
    "with open(\"./inputs/puzzle_03_01.txt\") as f:\n",
    "    input_ = f.read().strip()  "
   ]
  },
  {
   "cell_type": "code",
   "execution_count": 15,
   "id": "9648a440-8c17-4e8b-b11f-7673298dc8cc",
   "metadata": {},
   "outputs": [],
   "source": [
    "lines = input_.split(\"\\n\")"
   ]
  },
  {
   "cell_type": "code",
   "execution_count": 16,
   "id": "347ee404-e147-4b92-b1d8-79085417a67d",
   "metadata": {},
   "outputs": [],
   "source": [
    "def get_priority(char):\n",
    "    def is_capital(char):\n",
    "        return char == char.upper()\n",
    "    \n",
    "    ascii_val = ord(char)\n",
    "    return ascii_val - 38 if is_capital(char) else ascii_val - 96"
   ]
  },
  {
   "cell_type": "markdown",
   "id": "5ae1109e-8256-4244-b1cf-325b0042d522",
   "metadata": {},
   "source": [
    "## #1"
   ]
  },
  {
   "cell_type": "code",
   "execution_count": 17,
   "id": "a4620a76-8b54-4d28-a886-ea8fa7c6d411",
   "metadata": {},
   "outputs": [
    {
     "data": {
      "text/plain": [
       "7889"
      ]
     },
     "execution_count": 17,
     "metadata": {},
     "output_type": "execute_result"
    }
   ],
   "source": [
    "sum(\n",
    "    [\n",
    "        get_priority(\n",
    "            list(set(line[:(len(line)//2)]).intersection(set(line[(len(line)//2):])))[0]\n",
    "        ) \n",
    "        for line in lines\n",
    "    ]\n",
    ")"
   ]
  },
  {
   "cell_type": "markdown",
   "id": "a2a8ef76-3879-4e22-9bc1-4c14850efecf",
   "metadata": {},
   "source": [
    "## #2"
   ]
  },
  {
   "cell_type": "code",
   "execution_count": 18,
   "id": "85b1d31c-f3e0-439c-b846-4574f928a163",
   "metadata": {},
   "outputs": [],
   "source": [
    "priorities_sum = 0\n",
    "for i in range(0, len(lines), 3):\n",
    "    e1, e2, e3 = lines[i:i+3]\n",
    "    badge_item = set(e1).intersection(set(e2)).intersection(set(e3)).pop()\n",
    "    priorities_sum += get_priority(badge_item)"
   ]
  },
  {
   "cell_type": "code",
   "execution_count": 19,
   "id": "1ec653cc-71d3-42f0-a0c2-df5931df5e7e",
   "metadata": {},
   "outputs": [
    {
     "data": {
      "text/plain": [
       "2825"
      ]
     },
     "execution_count": 19,
     "metadata": {},
     "output_type": "execute_result"
    }
   ],
   "source": [
    "priorities_sum"
   ]
  },
  {
   "cell_type": "markdown",
   "id": "959c5663-26a2-4cea-87fc-aaf6c86159ef",
   "metadata": {},
   "source": [
    "# day 4"
   ]
  },
  {
   "cell_type": "code",
   "execution_count": 20,
   "id": "342ede71-ce0f-477c-b6e5-5c71f34d357b",
   "metadata": {},
   "outputs": [],
   "source": [
    "with open(\"./inputs/puzzle_04_01.txt\") as f:\n",
    "    input_ = f.read().strip()"
   ]
  },
  {
   "cell_type": "code",
   "execution_count": 21,
   "id": "445a2d52-6ceb-4667-a8ec-1761517e8377",
   "metadata": {},
   "outputs": [],
   "source": [
    "lines = input_.split(\"\\n\")"
   ]
  },
  {
   "cell_type": "markdown",
   "id": "98db41b2-7916-4fae-ac5e-8d47cf3596c1",
   "metadata": {},
   "source": [
    "## #1"
   ]
  },
  {
   "cell_type": "code",
   "execution_count": 22,
   "id": "74474b42-f0d1-4ccd-9575-b7b699dfea38",
   "metadata": {},
   "outputs": [],
   "source": [
    "def parse_line(line):\n",
    "    e1, e2 = line.split(\",\")\n",
    "    return tuple([int(val) for val in e1.split(\"-\")]), tuple([int(val) for val in e2.split(\"-\")])\n",
    "\n",
    "def is_1st_covered_by_2nd(_1st_start, _1st_end, _2nd_start, _2nd_end):\n",
    "    return (_1st_start >= _2nd_start) and (_1st_end <= _2nd_end)"
   ]
  },
  {
   "cell_type": "code",
   "execution_count": 23,
   "id": "4b81b2c6-f455-4c84-9999-a5c015192a52",
   "metadata": {},
   "outputs": [],
   "source": [
    "sum_ = 0\n",
    "for line in lines:\n",
    "    e1, e2 = parse_line(line)\n",
    "    sum_ += int(is_1st_covered_by_2nd(*e1, *e2) or is_1st_covered_by_2nd(*e2, *e1))"
   ]
  },
  {
   "cell_type": "code",
   "execution_count": 24,
   "id": "f251f12b-7de9-4c47-9d3e-e4d34635b324",
   "metadata": {},
   "outputs": [
    {
     "data": {
      "text/plain": [
       "477"
      ]
     },
     "execution_count": 24,
     "metadata": {},
     "output_type": "execute_result"
    }
   ],
   "source": [
    "sum_"
   ]
  },
  {
   "cell_type": "markdown",
   "id": "7d47c143-5b59-4b96-a14e-6704e6cbe922",
   "metadata": {},
   "source": [
    "## #2"
   ]
  },
  {
   "cell_type": "code",
   "execution_count": 25,
   "id": "93c4cf74-12f7-47cc-80af-04977ea27c98",
   "metadata": {},
   "outputs": [],
   "source": [
    "def check_overlap(_1st_start, _1st_end, _2nd_start, _2nd_end):\n",
    "    return (max(_1st_start, _2nd_start) <= min(_1st_end, _2nd_end))"
   ]
  },
  {
   "cell_type": "code",
   "execution_count": 26,
   "id": "1eb42fdc-d9e5-4423-8c68-6c8cce405b0d",
   "metadata": {},
   "outputs": [],
   "source": [
    "sum_ = 0\n",
    "for line in lines:\n",
    "    e1, e2 = parse_line(line)\n",
    "    sum_ += int(check_overlap(*e1, *e2))"
   ]
  },
  {
   "cell_type": "code",
   "execution_count": 27,
   "id": "1dcdd637-ccb4-4920-a431-944e23cafad8",
   "metadata": {},
   "outputs": [
    {
     "data": {
      "text/plain": [
       "830"
      ]
     },
     "execution_count": 27,
     "metadata": {},
     "output_type": "execute_result"
    }
   ],
   "source": [
    "sum_"
   ]
  },
  {
   "cell_type": "markdown",
   "id": "2ce7f7ff-78e9-47d7-b475-71923bf78d5a",
   "metadata": {},
   "source": [
    "# day 5"
   ]
  },
  {
   "cell_type": "code",
   "execution_count": null,
   "id": "ef92c1cb-4480-474d-83f0-2adf17dd5f91",
   "metadata": {},
   "outputs": [],
   "source": []
  }
 ],
 "metadata": {
  "kernelspec": {
   "display_name": "Python 3 (ipykernel)",
   "language": "python",
   "name": "python3"
  },
  "language_info": {
   "codemirror_mode": {
    "name": "ipython",
    "version": 3
   },
   "file_extension": ".py",
   "mimetype": "text/x-python",
   "name": "python",
   "nbconvert_exporter": "python",
   "pygments_lexer": "ipython3",
   "version": "3.10.6"
  }
 },
 "nbformat": 4,
 "nbformat_minor": 5
}
