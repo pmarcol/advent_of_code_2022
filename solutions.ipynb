{
 "cells": [
  {
   "cell_type": "markdown",
   "id": "c9494c11",
   "metadata": {},
   "source": [
    "# day 1"
   ]
  },
  {
   "cell_type": "code",
   "execution_count": 1,
   "id": "e2ff0813",
   "metadata": {},
   "outputs": [],
   "source": [
    "with open(\"./inputs/puzzle_01_01.txt\") as f:\n",
    "    input_ = f.read().strip()"
   ]
  },
  {
   "cell_type": "code",
   "execution_count": 2,
   "id": "eef2a79a",
   "metadata": {},
   "outputs": [],
   "source": [
    "values_per_elf = [[int(val) for val in entry.split(\"\\n\")] for entry in input_.split(\"\\n\\n\")]\n",
    "max_ = 0\n",
    "max_idx = 0\n",
    "for elf_idx, elf_vals in enumerate(values_per_elf):\n",
    "    if (t:=sum(elf_vals)) > max_:\n",
    "        max_ = t\n",
    "        max_idx = elf_idx"
   ]
  },
  {
   "cell_type": "markdown",
   "id": "ff56d3be",
   "metadata": {},
   "source": [
    "## #1"
   ]
  },
  {
   "cell_type": "code",
   "execution_count": 3,
   "id": "7458b5d8",
   "metadata": {},
   "outputs": [
    {
     "name": "stdout",
     "output_type": "stream",
     "text": [
      "elf number 68 has total of 71023 calories.\n"
     ]
    }
   ],
   "source": [
    "print(f\"elf number {max_idx} has total of {max_} calories.\")\n"
   ]
  },
  {
   "cell_type": "markdown",
   "id": "750554b6",
   "metadata": {},
   "source": [
    "## #2"
   ]
  },
  {
   "cell_type": "code",
   "execution_count": 4,
   "id": "091adca7",
   "metadata": {},
   "outputs": [],
   "source": [
    "elves_sums = [sum(elf_values) for elf_values in values_per_elf]"
   ]
  },
  {
   "cell_type": "code",
   "execution_count": 5,
   "id": "a8079970",
   "metadata": {},
   "outputs": [
    {
     "data": {
      "text/plain": [
       "206289"
      ]
     },
     "execution_count": 5,
     "metadata": {},
     "output_type": "execute_result"
    }
   ],
   "source": [
    "sum(sorted(elves_sums)[-3:])"
   ]
  },
  {
   "cell_type": "markdown",
   "id": "c06d59fc",
   "metadata": {},
   "source": [
    "# day 2"
   ]
  },
  {
   "cell_type": "code",
   "execution_count": 6,
   "id": "4f8c8ea5",
   "metadata": {},
   "outputs": [],
   "source": [
    "with open(\"./inputs/puzzle_02_01.txt\") as f:\n",
    "    input_ = f.read().strip()"
   ]
  },
  {
   "cell_type": "markdown",
   "id": "4e54b430",
   "metadata": {},
   "source": [
    "## #1"
   ]
  },
  {
   "cell_type": "code",
   "execution_count": 7,
   "id": "6796c8e4",
   "metadata": {},
   "outputs": [],
   "source": [
    "# mapping\n",
    "# [R, P, S]\n",
    "mapping_1 = ['A', 'B', 'C']\n",
    "mapping_2_to_1 = {'X': 'A', 'Y': 'B', 'Z': 'C'}\n",
    "points_per_gesture = [1, 2, 3]\n",
    "\n",
    "points_for_outcome = [3, 6, 0] # [idx0: points_for_draw, idx1: points_for_win, idx2=idx-1: points_for_lose]"
   ]
  },
  {
   "cell_type": "code",
   "execution_count": 8,
   "id": "358c4f76",
   "metadata": {},
   "outputs": [],
   "source": [
    "def pointer(in1, in2, use_2_to_1_mapping=False):\n",
    "    rel_matrix = [[0, 1, -1], [-1, 0, 1], [1, -1, 0]]\n",
    "    idx1 = mapping_1.index(in1)\n",
    "    idx2 = mapping_1.index(mapping_2_to_1[in2]) if use_2_to_1_mapping else mapping_1.index(in2)\n",
    "    outcome = rel_matrix[idx1][idx2]\n",
    "    points = points_for_outcome[outcome] + points_per_gesture[idx2]\n",
    "    return points"
   ]
  },
  {
   "cell_type": "code",
   "execution_count": 9,
   "id": "dfda060b",
   "metadata": {},
   "outputs": [
    {
     "data": {
      "text/plain": [
       "9651"
      ]
     },
     "execution_count": 9,
     "metadata": {},
     "output_type": "execute_result"
    }
   ],
   "source": [
    "sum([pointer(*line.split(\" \"), True) for line in input_.split(\"\\n\")])"
   ]
  },
  {
   "cell_type": "markdown",
   "id": "46ced8e4",
   "metadata": {},
   "source": [
    "## #2"
   ]
  },
  {
   "cell_type": "code",
   "execution_count": 10,
   "id": "2d46f54c",
   "metadata": {},
   "outputs": [],
   "source": [
    "mapping_outcome = {'X': -1, 'Y': 0, 'Z': 1}\n",
    "p1_gestures = [line[0] for line in input_.split(\"\\n\")]\n",
    "desired_outcomes = [line[2] for line in input_.split(\"\\n\")]"
   ]
  },
  {
   "cell_type": "code",
   "execution_count": 11,
   "id": "dec0d79b",
   "metadata": {},
   "outputs": [],
   "source": [
    "def get_desired_gesture(p1_gesture, desired_outcome):\n",
    "    idx1 = mapping_1.index(p1_gesture)\n",
    "    idx2 = (idx1 + mapping_outcome[desired_outcome]) % 3\n",
    "    return mapping_1[idx2]"
   ]
  },
  {
   "cell_type": "code",
   "execution_count": 12,
   "id": "22c3be27",
   "metadata": {},
   "outputs": [],
   "source": [
    "desired_gestures = [get_desired_gesture(p1_g, do) for p1_g, do in zip(p1_gestures, desired_outcomes)]"
   ]
  },
  {
   "cell_type": "code",
   "execution_count": 13,
   "id": "b535579c",
   "metadata": {},
   "outputs": [
    {
     "data": {
      "text/plain": [
       "10560"
      ]
     },
     "execution_count": 13,
     "metadata": {},
     "output_type": "execute_result"
    }
   ],
   "source": [
    "sum([pointer(p1_g, p2_g, False) for p1_g, p2_g in zip(p1_gestures, desired_gestures)])"
   ]
  },
  {
   "cell_type": "markdown",
   "id": "f2ed41d7",
   "metadata": {},
   "source": [
    "# day 3"
   ]
  },
  {
   "cell_type": "code",
   "execution_count": 14,
   "id": "0c9c7a05",
   "metadata": {},
   "outputs": [],
   "source": [
    "with open(\"./inputs/puzzle_03_01.txt\") as f:\n",
    "    input_ = f.read().strip()  "
   ]
  },
  {
   "cell_type": "code",
   "execution_count": 15,
   "id": "d71c29f3",
   "metadata": {},
   "outputs": [],
   "source": [
    "lines = input_.split(\"\\n\")"
   ]
  },
  {
   "cell_type": "code",
   "execution_count": 16,
   "id": "6a62894b",
   "metadata": {},
   "outputs": [],
   "source": [
    "def get_priority(char):\n",
    "    def is_capital(char):\n",
    "        return char == char.upper()\n",
    "    \n",
    "    ascii_val = ord(char)\n",
    "    return ascii_val - 38 if is_capital(char) else ascii_val - 96"
   ]
  },
  {
   "cell_type": "markdown",
   "id": "8aece6b2",
   "metadata": {},
   "source": [
    "## #1"
   ]
  },
  {
   "cell_type": "code",
   "execution_count": 17,
   "id": "6dc91bbb",
   "metadata": {},
   "outputs": [
    {
     "data": {
      "text/plain": [
       "7889"
      ]
     },
     "execution_count": 17,
     "metadata": {},
     "output_type": "execute_result"
    }
   ],
   "source": [
    "sum(\n",
    "    [\n",
    "        get_priority(\n",
    "            list(set(line[:(len(line)//2)]).intersection(set(line[(len(line)//2):])))[0]\n",
    "        ) \n",
    "        for line in lines\n",
    "    ]\n",
    ")"
   ]
  },
  {
   "cell_type": "markdown",
   "id": "f6aa0b4d",
   "metadata": {},
   "source": [
    "## #2"
   ]
  },
  {
   "cell_type": "code",
   "execution_count": 18,
   "id": "df38f603",
   "metadata": {},
   "outputs": [],
   "source": [
    "priorities_sum = 0\n",
    "for i in range(0, len(lines), 3):\n",
    "    e1, e2, e3 = lines[i:i+3]\n",
    "    badge_item = set(e1).intersection(set(e2)).intersection(set(e3)).pop()\n",
    "    priorities_sum += get_priority(badge_item)"
   ]
  },
  {
   "cell_type": "code",
   "execution_count": 19,
   "id": "886ef2d1",
   "metadata": {},
   "outputs": [
    {
     "data": {
      "text/plain": [
       "2825"
      ]
     },
     "execution_count": 19,
     "metadata": {},
     "output_type": "execute_result"
    }
   ],
   "source": [
    "priorities_sum"
   ]
  },
  {
   "cell_type": "markdown",
   "id": "b3bc4e46",
   "metadata": {},
   "source": [
    "# day 4"
   ]
  },
  {
   "cell_type": "code",
   "execution_count": 20,
   "id": "d8c2fb41",
   "metadata": {},
   "outputs": [],
   "source": [
    "with open(\"./inputs/puzzle_04_01.txt\") as f:\n",
    "    input_ = f.read().strip()"
   ]
  },
  {
   "cell_type": "code",
   "execution_count": 21,
   "id": "639f6e91",
   "metadata": {},
   "outputs": [],
   "source": [
    "lines = input_.split(\"\\n\")"
   ]
  },
  {
   "cell_type": "markdown",
   "id": "e1a4f12b",
   "metadata": {},
   "source": [
    "## #1"
   ]
  },
  {
   "cell_type": "code",
   "execution_count": 22,
   "id": "27139d8a",
   "metadata": {},
   "outputs": [],
   "source": [
    "def parse_line(line):\n",
    "    e1, e2 = line.split(\",\")\n",
    "    return tuple([int(val) for val in e1.split(\"-\")]), tuple([int(val) for val in e2.split(\"-\")])\n",
    "\n",
    "def is_1st_covered_by_2nd(_1st_start, _1st_end, _2nd_start, _2nd_end):\n",
    "    return (_1st_start >= _2nd_start) and (_1st_end <= _2nd_end)"
   ]
  },
  {
   "cell_type": "code",
   "execution_count": 23,
   "id": "cd6bcdaf",
   "metadata": {},
   "outputs": [],
   "source": [
    "sum_ = 0\n",
    "for line in lines:\n",
    "    e1, e2 = parse_line(line)\n",
    "    sum_ += int(is_1st_covered_by_2nd(*e1, *e2) or is_1st_covered_by_2nd(*e2, *e1))"
   ]
  },
  {
   "cell_type": "code",
   "execution_count": 24,
   "id": "1290b340",
   "metadata": {},
   "outputs": [
    {
     "data": {
      "text/plain": [
       "477"
      ]
     },
     "execution_count": 24,
     "metadata": {},
     "output_type": "execute_result"
    }
   ],
   "source": [
    "sum_"
   ]
  },
  {
   "cell_type": "markdown",
   "id": "a8b8968d",
   "metadata": {},
   "source": [
    "## #2"
   ]
  },
  {
   "cell_type": "code",
   "execution_count": 25,
   "id": "c44b8bae",
   "metadata": {},
   "outputs": [],
   "source": [
    "def check_overlap(_1st_start, _1st_end, _2nd_start, _2nd_end):\n",
    "    return (max(_1st_start, _2nd_start) <= min(_1st_end, _2nd_end))"
   ]
  },
  {
   "cell_type": "code",
   "execution_count": 26,
   "id": "31ed6128",
   "metadata": {},
   "outputs": [],
   "source": [
    "sum_ = 0\n",
    "for line in lines:\n",
    "    e1, e2 = parse_line(line)\n",
    "    sum_ += int(check_overlap(*e1, *e2))"
   ]
  },
  {
   "cell_type": "code",
   "execution_count": 27,
   "id": "2a39d93c",
   "metadata": {},
   "outputs": [
    {
     "data": {
      "text/plain": [
       "830"
      ]
     },
     "execution_count": 27,
     "metadata": {},
     "output_type": "execute_result"
    }
   ],
   "source": [
    "sum_"
   ]
  },
  {
   "cell_type": "markdown",
   "id": "08859f77",
   "metadata": {},
   "source": [
    "# day 5"
   ]
  },
  {
   "cell_type": "code",
   "execution_count": 28,
   "id": "25df288a",
   "metadata": {},
   "outputs": [],
   "source": [
    "with open(\"./inputs/puzzle_05_01.txt\") as f:\n",
    "    input_ = f.read().strip(\"\\n\")\n",
    "lines = input_.split('\\n')"
   ]
  },
  {
   "cell_type": "code",
   "execution_count": 29,
   "id": "bb9f2d3a",
   "metadata": {},
   "outputs": [],
   "source": [
    "stacks_lines = \"\"\n",
    "\n",
    "for i, line in enumerate(lines):\n",
    "    if not line.startswith(' 1 '):\n",
    "        stacks_lines += (line + \"\\n\")\n",
    "    else:\n",
    "        break\n",
    "        \n",
    "stacks_lines = stacks_lines.strip(\"\\n\").split('\\n')\n",
    "instructions = lines[i+2:]"
   ]
  },
  {
   "cell_type": "code",
   "execution_count": 30,
   "id": "153ca1e2",
   "metadata": {
    "tags": []
   },
   "outputs": [],
   "source": [
    "import re\n",
    "\n",
    "def instructions_parser(instruction):\n",
    "    p = re.compile(r'\\d+')\n",
    "    return tuple([int(v) for v in p.findall(instruction)]) # amount, source, target"
   ]
  },
  {
   "cell_type": "markdown",
   "id": "dac02b24",
   "metadata": {},
   "source": [
    "## #1"
   ]
  },
  {
   "cell_type": "code",
   "execution_count": 31,
   "id": "41cbb851",
   "metadata": {
    "tags": []
   },
   "outputs": [],
   "source": [
    "stacks = []\n",
    "for ind in range(1, len(stacks_lines[0]), 4):\n",
    "    temp_stack = ''.join([line[ind] for line in stacks_lines]).strip()[::-1]\n",
    "    stacks.append(temp_stack)"
   ]
  },
  {
   "cell_type": "code",
   "execution_count": 32,
   "id": "c62c36ec",
   "metadata": {},
   "outputs": [],
   "source": [
    "for instruction in instructions:\n",
    "    amount, source, target = instructions_parser(instruction)\n",
    "    stacks[target-1] += stacks[source-1][-amount:][::-1]\n",
    "    stacks[source-1] = stacks[source-1][:-amount]"
   ]
  },
  {
   "cell_type": "code",
   "execution_count": 33,
   "id": "9aa870de",
   "metadata": {},
   "outputs": [
    {
     "name": "stdout",
     "output_type": "stream",
     "text": [
      "FCVRLMVQP\n"
     ]
    }
   ],
   "source": [
    "output = ''.join([stack[-1] for stack in stacks])\n",
    "print(output)"
   ]
  },
  {
   "cell_type": "markdown",
   "id": "240f5e7b",
   "metadata": {},
   "source": [
    "## #2"
   ]
  },
  {
   "cell_type": "code",
   "execution_count": 34,
   "id": "e8a2d1e5",
   "metadata": {},
   "outputs": [],
   "source": [
    "stacks = []\n",
    "for ind in range(1, len(stacks_lines[0]), 4):\n",
    "    temp_stack = ''.join([line[ind] for line in stacks_lines]).strip()[::-1]\n",
    "    stacks.append(temp_stack)"
   ]
  },
  {
   "cell_type": "code",
   "execution_count": 35,
   "id": "d8e44148",
   "metadata": {},
   "outputs": [],
   "source": [
    "for instruction in instructions:\n",
    "    amount, source, target = instructions_parser(instruction)\n",
    "    stacks[target-1] += stacks[source-1][-amount:]\n",
    "    stacks[source-1] = stacks[source-1][:-amount]"
   ]
  },
  {
   "cell_type": "code",
   "execution_count": 36,
   "id": "79de63f9",
   "metadata": {},
   "outputs": [
    {
     "name": "stdout",
     "output_type": "stream",
     "text": [
      "RWLWGJGFD\n"
     ]
    }
   ],
   "source": [
    "output = ''.join([stack[-1] for stack in stacks])\n",
    "print(output)"
   ]
  },
  {
   "cell_type": "markdown",
   "id": "d2159cb0",
   "metadata": {},
   "source": [
    "# day 6"
   ]
  },
  {
   "cell_type": "code",
   "execution_count": 37,
   "id": "b60c4f68",
   "metadata": {},
   "outputs": [],
   "source": [
    "with open(\"./inputs/puzzle_06_01.txt\") as f:\n",
    "    input_ = f.read().strip()"
   ]
  },
  {
   "cell_type": "code",
   "execution_count": 38,
   "id": "7a1ac1c7",
   "metadata": {},
   "outputs": [],
   "source": [
    "def find_start(content, n_distincs_chars):\n",
    "    for i in range(n_distincs_chars, len(content)):\n",
    "        if len(set(content[i-n_distincs_chars:i]))==n_distincs_chars:\n",
    "            return i"
   ]
  },
  {
   "cell_type": "markdown",
   "id": "ace05b47",
   "metadata": {},
   "source": [
    "## #1"
   ]
  },
  {
   "cell_type": "code",
   "execution_count": 39,
   "id": "621e5e20",
   "metadata": {},
   "outputs": [
    {
     "data": {
      "text/plain": [
       "1287"
      ]
     },
     "execution_count": 39,
     "metadata": {},
     "output_type": "execute_result"
    }
   ],
   "source": [
    "find_start(input_, 4)"
   ]
  },
  {
   "cell_type": "markdown",
   "id": "deb52f3a",
   "metadata": {},
   "source": [
    "## #2"
   ]
  },
  {
   "cell_type": "code",
   "execution_count": 40,
   "id": "20abb75d",
   "metadata": {},
   "outputs": [
    {
     "data": {
      "text/plain": [
       "3716"
      ]
     },
     "execution_count": 40,
     "metadata": {},
     "output_type": "execute_result"
    }
   ],
   "source": [
    "find_start(input_, 14)"
   ]
  },
  {
   "cell_type": "markdown",
   "id": "2d7c390a",
   "metadata": {},
   "source": [
    "# day 7"
   ]
  },
  {
   "cell_type": "code",
   "execution_count": 41,
   "id": "fab2af9e",
   "metadata": {},
   "outputs": [],
   "source": [
    "with open(\"./inputs/puzzle_07_01.txt\") as f:\n",
    "    input_ = f.read()"
   ]
  },
  {
   "cell_type": "code",
   "execution_count": 42,
   "id": "f36da9d0",
   "metadata": {},
   "outputs": [],
   "source": [
    "from functools import reduce"
   ]
  },
  {
   "cell_type": "code",
   "execution_count": 43,
   "id": "06f674ad",
   "metadata": {},
   "outputs": [],
   "source": [
    "commands_and_outputs = input_.split(\"$ \")[1:]\n",
    "commands_and_outputs = [entry.split(\"\\n\")[:-1] for entry in commands_and_outputs]"
   ]
  },
  {
   "cell_type": "code",
   "execution_count": 44,
   "id": "bf627222",
   "metadata": {},
   "outputs": [],
   "source": [
    "current_tree = {\"/\": {}}\n",
    "current_path = []\n",
    "\n",
    "def get_node_by_path(tree, path):\n",
    "    return reduce(dict.get, path, tree)\n",
    "\n",
    "def process_node(command_and_outputs, tree, path):\n",
    "    command = command_and_outputs[0]\n",
    "    if command.startswith(\"ls\"):\n",
    "        return process_ls_node(command_and_outputs[1:], tree, path)\n",
    "    elif command.startswith(\"cd\"):\n",
    "        return process_cd_node(command[3:], tree, path)\n",
    "\n",
    "def process_cd_node(target_dir, tree, path):\n",
    "    if target_dir=='..':\n",
    "        return tree, path[:-1]\n",
    "    return tree, path + [target_dir]\n",
    "\n",
    "def process_ls_node(listed_items, tree, path):\n",
    "    for item in listed_items:\n",
    "        current_node = get_node_by_path(tree, path)\n",
    "        k, v = parse_list_item(item)\n",
    "        current_node[k] = v\n",
    "    return tree, path\n",
    "        \n",
    "def parse_list_item(item):\n",
    "    i1, i2 = item.split(\" \")\n",
    "    return (i2, {} if i1=='dir' else int(i1))"
   ]
  },
  {
   "cell_type": "code",
   "execution_count": 45,
   "id": "89074439",
   "metadata": {},
   "outputs": [],
   "source": [
    "for cao in commands_and_outputs:\n",
    "    current_tree, current_path = process_node(cao, current_tree, current_path)"
   ]
  },
  {
   "cell_type": "markdown",
   "id": "ed1e8155",
   "metadata": {},
   "source": [
    "## #1"
   ]
  },
  {
   "cell_type": "code",
   "execution_count": 46,
   "id": "3d4eda2f",
   "metadata": {},
   "outputs": [],
   "source": [
    "def get_node_size(d, size_sum, dirs_sizes, current_path):\n",
    "    subsum = 0\n",
    "    _size_sum = size_sum\n",
    "    _dirs_sizes = dirs_sizes\n",
    "    for k, v in d.items():\n",
    "        if type(v)==int:\n",
    "            subsum += v\n",
    "        elif type(v) == dict:\n",
    "            temp, _size_sum, _dirs_sizes = get_node_size(v, _size_sum, _dirs_sizes, current_path + [k])\n",
    "            if temp <= 100000:\n",
    "                _size_sum += temp\n",
    "            subsum += temp\n",
    "            _dirs_sizes.append((current_path + [k], temp))\n",
    "    return subsum, _size_sum, _dirs_sizes"
   ]
  },
  {
   "cell_type": "code",
   "execution_count": 47,
   "id": "2674557a",
   "metadata": {},
   "outputs": [],
   "source": [
    "total_size, subsum, dirs_sizes = get_node_size(current_tree, 0, [], [])"
   ]
  },
  {
   "cell_type": "code",
   "execution_count": 48,
   "id": "fb3da1f0",
   "metadata": {},
   "outputs": [
    {
     "name": "stdout",
     "output_type": "stream",
     "text": [
      "1844187\n"
     ]
    }
   ],
   "source": [
    "print(subsum)"
   ]
  },
  {
   "cell_type": "markdown",
   "id": "24350de7",
   "metadata": {
    "tags": []
   },
   "source": [
    "## #2"
   ]
  },
  {
   "cell_type": "code",
   "execution_count": 49,
   "id": "e17d54c6",
   "metadata": {},
   "outputs": [
    {
     "name": "stdout",
     "output_type": "stream",
     "text": [
      "4978279\n"
     ]
    }
   ],
   "source": [
    "for _, size in sorted(dirs_sizes, key=lambda e:e[1]):\n",
    "    if 70000000 - (total_size-size) > 30000000:\n",
    "        print(size)\n",
    "        break"
   ]
  },
  {
   "cell_type": "markdown",
   "id": "4a2316c0",
   "metadata": {},
   "source": [
    "# day 8"
   ]
  },
  {
   "cell_type": "code",
   "execution_count": 50,
   "id": "b2919e1d",
   "metadata": {},
   "outputs": [],
   "source": [
    "with open(\"./inputs/puzzle_08_01.txt\") as f:\n",
    "    input_ = f.read().strip()"
   ]
  },
  {
   "cell_type": "code",
   "execution_count": 51,
   "id": "ed7d0718",
   "metadata": {},
   "outputs": [],
   "source": [
    "trees = [[int(digit) for digit in line] for line in input_.split('\\n')]"
   ]
  },
  {
   "cell_type": "code",
   "execution_count": 52,
   "id": "661b08f6",
   "metadata": {},
   "outputs": [],
   "source": [
    "def extract_rays(x, y, heights):\n",
    "    return (\n",
    "        heights[x][:y][::-1], \n",
    "        heights[x][(y+1):], \n",
    "        [h[y] for h in heights[:x]][::-1], \n",
    "        [h[y] for h in heights[(x+1):]]\n",
    "    )"
   ]
  },
  {
   "cell_type": "code",
   "execution_count": 53,
   "id": "0a2de077",
   "metadata": {},
   "outputs": [],
   "source": [
    "def is_visible(height, rays):\n",
    "    for ray in rays:\n",
    "        if all([other < height for other in ray]):\n",
    "            return True\n",
    "    return False"
   ]
  },
  {
   "cell_type": "markdown",
   "id": "e592ff95",
   "metadata": {},
   "source": [
    "## #1"
   ]
  },
  {
   "cell_type": "code",
   "execution_count": 54,
   "id": "f2fe7fea",
   "metadata": {},
   "outputs": [],
   "source": [
    "from itertools import product\n",
    "\n",
    "not_visible = 0\n",
    "for i, j in product(range(len(trees)), range(len(trees[0]))):\n",
    "    not_visible += is_visible(trees[i][j], extract_rays(i, j, trees))"
   ]
  },
  {
   "cell_type": "code",
   "execution_count": 55,
   "id": "1563a3d5",
   "metadata": {},
   "outputs": [
    {
     "data": {
      "text/plain": [
       "1560"
      ]
     },
     "execution_count": 55,
     "metadata": {},
     "output_type": "execute_result"
    }
   ],
   "source": [
    "not_visible"
   ]
  },
  {
   "cell_type": "markdown",
   "id": "d46d0972",
   "metadata": {},
   "source": [
    "## #2"
   ]
  },
  {
   "cell_type": "code",
   "execution_count": 56,
   "id": "e5c440cd",
   "metadata": {},
   "outputs": [],
   "source": [
    "def get_viewing_distance(height, ray):\n",
    "    higher_mask = [other >= height for other in ray]\n",
    "    return (higher_mask.index(True)+1 if True in higher_mask else len(higher_mask)) if higher_mask else 0"
   ]
  },
  {
   "cell_type": "code",
   "execution_count": 57,
   "id": "7b6c2c2d",
   "metadata": {
    "tags": []
   },
   "outputs": [],
   "source": [
    "from operator import mul\n",
    "max_scenic_score = -1\n",
    "for i, j in product(range(len(trees)), range(len(trees[0]))):\n",
    "    vieving_distances = [get_viewing_distance(trees[i][j], ray) for ray in extract_rays(i, j, trees)]\n",
    "    scenic_score = reduce(mul, vieving_distances, 1)\n",
    "    if scenic_score > max_scenic_score:\n",
    "        max_scenic_score = scenic_score"
   ]
  },
  {
   "cell_type": "code",
   "execution_count": 58,
   "id": "e4f7564b",
   "metadata": {},
   "outputs": [
    {
     "data": {
      "text/plain": [
       "252000"
      ]
     },
     "execution_count": 58,
     "metadata": {},
     "output_type": "execute_result"
    }
   ],
   "source": [
    "max_scenic_score"
   ]
  },
  {
   "cell_type": "markdown",
   "id": "ddc6ce7b",
   "metadata": {},
   "source": [
    "# day 9"
   ]
  },
  {
   "cell_type": "code",
   "execution_count": 59,
   "id": "966cfbf2",
   "metadata": {},
   "outputs": [],
   "source": [
    "with open(\"./inputs/puzzle_09_01.txt\") as f:\n",
    "    input_ = f.read().strip()"
   ]
  },
  {
   "cell_type": "code",
   "execution_count": 60,
   "id": "a1013c04",
   "metadata": {},
   "outputs": [],
   "source": [
    "moves = [(direction, int(n_steps)) for direction, n_steps in [line.split(' ') for line in input_.split('\\n')]]"
   ]
  },
  {
   "cell_type": "code",
   "execution_count": 61,
   "id": "1d05e352",
   "metadata": {},
   "outputs": [],
   "source": [
    "direction_translation = {'L': (0, -1), 'U': (1, 0), 'R': (0, 1), 'D': (-1, 0)}"
   ]
  },
  {
   "cell_type": "code",
   "execution_count": 62,
   "id": "01db0621",
   "metadata": {},
   "outputs": [],
   "source": [
    "def update_head_position(current_position, step_direction):\n",
    "    step_vector = direction_translation[step_direction]\n",
    "    return tuple([current_position[i] + step_vector[i] for i in [0,1]])"
   ]
  },
  {
   "cell_type": "code",
   "execution_count": 63,
   "id": "dc75bae0",
   "metadata": {},
   "outputs": [],
   "source": [
    "def cap_vector(v):\n",
    "    return tuple([vi//abs(vi) if vi != 0 else 0 for vi in v])"
   ]
  },
  {
   "cell_type": "code",
   "execution_count": 64,
   "id": "1a0f4786",
   "metadata": {},
   "outputs": [],
   "source": [
    "def update_tail_position(current_tail_position, current_head_position):\n",
    "    delta = tuple([current_head_position[i] - current_tail_position[i] for i in [0,1]])\n",
    "    capped_vector = cap_vector(delta)\n",
    "    if delta != capped_vector:\n",
    "        return tuple([current_tail_position[i] + capped_vector[i] for i in [0,1]])\n",
    "    return current_tail_position"
   ]
  },
  {
   "cell_type": "markdown",
   "id": "41ce69b5",
   "metadata": {},
   "source": [
    "## #1"
   ]
  },
  {
   "cell_type": "code",
   "execution_count": 65,
   "id": "2312b42b",
   "metadata": {},
   "outputs": [
    {
     "name": "stdout",
     "output_type": "stream",
     "text": [
      "6314\n"
     ]
    }
   ],
   "source": [
    "visited_spots = []\n",
    "head_position = (0, 0)\n",
    "tail_position = (0, 0)\n",
    "for direction, n_steps in moves:\n",
    "    for _ in range(n_steps):\n",
    "        head_position = update_head_position(head_position, direction)\n",
    "        tail_position = update_tail_position(tail_position, head_position)\n",
    "        visited_spots.append(tail_position)\n",
    "print(len(set(visited_spots)))"
   ]
  },
  {
   "cell_type": "markdown",
   "id": "9df759c1",
   "metadata": {},
   "source": [
    "## #2"
   ]
  },
  {
   "cell_type": "code",
   "execution_count": 66,
   "id": "759ffafa",
   "metadata": {},
   "outputs": [
    {
     "name": "stdout",
     "output_type": "stream",
     "text": [
      "6314\n"
     ]
    }
   ],
   "source": [
    "visited_spots = []\n",
    "positions = [(0, 0) for _ in range(10)]\n",
    "for direction, n_steps in moves:\n",
    "    for _ in range(n_steps):\n",
    "        positions[0] = update_head_position(positions[0], direction)\n",
    "        for i in range(1, 10):\n",
    "            positions[i] = update_tail_position(positions[i], positions[0])\n",
    "        visited_spots.append(positions[-1])\n",
    "print(len(set(visited_spots)))"
   ]
  },
  {
   "cell_type": "markdown",
   "id": "f3b7a5d9",
   "metadata": {},
   "source": [
    "# day 10"
   ]
  },
  {
   "cell_type": "code",
   "execution_count": 67,
   "id": "945c15fa",
   "metadata": {},
   "outputs": [],
   "source": [
    "with open(\"./inputs/puzzle_10_01.txt\") as f:\n",
    "    input_ = f.read().strip()"
   ]
  },
  {
   "cell_type": "code",
   "execution_count": 68,
   "id": "d03572e6",
   "metadata": {},
   "outputs": [],
   "source": [
    "instructions = [tuple(line.split(\" \")) for line in input_.split(\"\\n\")]"
   ]
  },
  {
   "cell_type": "code",
   "execution_count": 69,
   "id": "0de20eda",
   "metadata": {},
   "outputs": [],
   "source": [
    "def post_cycle_processing(cycle, X, out, ssf):\n",
    "    if cycle in [20, 60, 100, 140, 180, 220]:\n",
    "        ssf.update({cycle: X})\n",
    "    crt_pixel = \"#\" if X - 1 <= ((cycle-1) % 40) <= X + 1 else '.'\n",
    "    out.append(crt_pixel)"
   ]
  },
  {
   "cell_type": "code",
   "execution_count": 70,
   "id": "c9632338",
   "metadata": {},
   "outputs": [],
   "source": [
    "def process_addx(current_cycle, X, out, ssf, V, n_cycles_per_instruction=2):\n",
    "    for cycle in range(n_cycles_per_instruction):\n",
    "        current_cycle = current_cycle + 1\n",
    "        post_cycle_processing(current_cycle, X, out, ssf)\n",
    "    return current_cycle, X+int(V)"
   ]
  },
  {
   "cell_type": "code",
   "execution_count": 71,
   "id": "132307ed",
   "metadata": {},
   "outputs": [],
   "source": [
    "def process_noop(current_cycle, X, out, ssf, *args):\n",
    "    current_cycle = current_cycle + 1\n",
    "    post_cycle_processing(current_cycle, X, out, ssf)\n",
    "    return current_cycle, X"
   ]
  },
  {
   "cell_type": "code",
   "execution_count": 72,
   "id": "9090573e",
   "metadata": {},
   "outputs": [],
   "source": [
    "processing_mapping = {'addx': process_addx, 'noop': process_noop}"
   ]
  },
  {
   "cell_type": "markdown",
   "id": "9369b182",
   "metadata": {},
   "source": [
    "## #1"
   ]
  },
  {
   "cell_type": "code",
   "execution_count": 73,
   "id": "468ee6d6",
   "metadata": {},
   "outputs": [],
   "source": [
    "cycle = 0\n",
    "X = 1\n",
    "signal_strength_factors = {}\n",
    "output = []\n",
    "for i, instruction in enumerate(instructions):\n",
    "    cycle, X = processing_mapping[instruction[0]](cycle, X, output, signal_strength_factors, instruction[-1])"
   ]
  },
  {
   "cell_type": "code",
   "execution_count": 74,
   "id": "7ace9295",
   "metadata": {},
   "outputs": [
    {
     "data": {
      "text/plain": [
       "{20: 21, 60: 21, 100: 16, 140: 2, 180: 21, 220: 21}"
      ]
     },
     "execution_count": 74,
     "metadata": {},
     "output_type": "execute_result"
    }
   ],
   "source": [
    "signal_strength_factors"
   ]
  },
  {
   "cell_type": "code",
   "execution_count": 75,
   "id": "d88872fc",
   "metadata": {},
   "outputs": [
    {
     "name": "stdout",
     "output_type": "stream",
     "text": [
      "11960\n"
     ]
    }
   ],
   "source": [
    "signal_strength = 0\n",
    "for k, v in signal_strength_factors.items():\n",
    "    signal_strength += k*v\n",
    "print(signal_strength)"
   ]
  },
  {
   "cell_type": "markdown",
   "id": "21600100",
   "metadata": {},
   "source": [
    "## #2"
   ]
  },
  {
   "cell_type": "code",
   "execution_count": 76,
   "id": "e923657a",
   "metadata": {},
   "outputs": [],
   "source": [
    "crt_output = \"\\n\".join([\"\".join(output[i:(i+40)]) for i in range(0, 240, 40)])"
   ]
  },
  {
   "cell_type": "code",
   "execution_count": 77,
   "id": "65dd53d1",
   "metadata": {},
   "outputs": [
    {
     "name": "stdout",
     "output_type": "stream",
     "text": [
      "####...##..##..####.###...##..#....#..#.\n",
      "#.......#.#..#.#....#..#.#..#.#....#..#.\n",
      "###.....#.#....###..#..#.#....#....####.\n",
      "#.......#.#....#....###..#.##.#....#..#.\n",
      "#....#..#.#..#.#....#....#..#.#....#..#.\n",
      "####..##...##..#....#.....###.####.#..#.\n"
     ]
    }
   ],
   "source": [
    "print(crt_output)"
   ]
  },
  {
   "cell_type": "markdown",
   "id": "00082004",
   "metadata": {},
   "source": [
    "EJCFPGLH"
   ]
  },
  {
   "cell_type": "markdown",
   "id": "8bb5437e-6914-4844-97a9-fb4f14a670ca",
   "metadata": {},
   "source": [
    "# day 11"
   ]
  },
  {
   "cell_type": "code",
   "execution_count": 78,
   "id": "ec2d4474-9e9a-4189-9990-4581689b7c04",
   "metadata": {},
   "outputs": [],
   "source": [
    "with open(\"./inputs/puzzle_11_01.txt\") as f:\n",
    "    input_ = f.read().strip()"
   ]
  },
  {
   "cell_type": "code",
   "execution_count": 79,
   "id": "7c057810-a158-46f8-a8c8-6a683de8d3bc",
   "metadata": {},
   "outputs": [],
   "source": [
    "monkeys_data = [[line.strip() for line in entry.split(\"\\n\")] for entry in input_.split(\"\\n\\n\")]"
   ]
  },
  {
   "cell_type": "code",
   "execution_count": 80,
   "id": "e7b739f5-1b7b-4fac-b5ee-0646d2da7b4e",
   "metadata": {},
   "outputs": [],
   "source": [
    "class Monkey():\n",
    "    def __init__(self, data_entry):\n",
    "        self.items = self.parse_starting_items(data_entry[1])\n",
    "        self.operation_pattern = self.parse_operation(data_entry[2])\n",
    "        self.divisibility_test = self.parse_divisibility_test(data_entry[3])\n",
    "        self.target_if_true = self.parse_target_on_condition(data_entry[4])\n",
    "        self.target_if_false = self.parse_target_on_condition(data_entry[5])\n",
    "        self.counter = 0\n",
    "   \n",
    "    @staticmethod\n",
    "    def parse_starting_items(line):\n",
    "        return [int(item) for item in line.split(\": \")[-1].split(\", \")]\n",
    "   \n",
    "    @staticmethod\n",
    "    def parse_operation(line):\n",
    "        return line.split(\"= \")[-1].replace(\"old\", \"{old}\")\n",
    "   \n",
    "    @staticmethod\n",
    "    def parse_divisibility_test(line):\n",
    "        return int(line.split(\" \")[-1])\n",
    "   \n",
    "    @staticmethod\n",
    "    def parse_target_on_condition(line):\n",
    "        return int(line.split(\" \")[-1])\n",
    "   \n",
    "    def inspect(self, item, relief=True, worry_relief_factor=3):\n",
    "        self.counter += 1\n",
    "        new_worry_level = eval(self.operation_pattern.format(old = item)) \n",
    "        if relief:\n",
    "            new_worry_level = new_worry_level // worry_relief_factor\n",
    "        return new_worry_level, self.target_if_true if (new_worry_level % self.divisibility_test == 0) else self.target_if_false"
   ]
  },
  {
   "cell_type": "markdown",
   "id": "083f74fa-42c0-480b-8e08-739e3fc6c74b",
   "metadata": {},
   "source": [
    "## #1"
   ]
  },
  {
   "cell_type": "code",
   "execution_count": 81,
   "id": "d3bdd9ae-8b0c-4987-a38e-9f18c0a5d7eb",
   "metadata": {},
   "outputs": [],
   "source": [
    "monkeys = [Monkey(entry) for entry in monkeys_data]"
   ]
  },
  {
   "cell_type": "code",
   "execution_count": 82,
   "id": "9e209935-67df-4ee5-8755-972dcd963191",
   "metadata": {},
   "outputs": [],
   "source": [
    "n_rounds = 20\n",
    "\n",
    "for r in range(n_rounds):\n",
    "    for i, monkey in enumerate(monkeys):\n",
    "        items_to_inspect = list(monkey.items)\n",
    "        for item in items_to_inspect:\n",
    "            new_item, target = monkey.inspect(item)\n",
    "            monkey.items.pop(0)\n",
    "            monkeys[target].items.append(new_item)"
   ]
  },
  {
   "cell_type": "code",
   "execution_count": 83,
   "id": "eb0145a8-6f56-4d11-9fa9-d4a1d46fd9c5",
   "metadata": {},
   "outputs": [],
   "source": [
    "counters = [m.counter for m in monkeys]"
   ]
  },
  {
   "cell_type": "code",
   "execution_count": 84,
   "id": "2982dad9-a63d-4fb7-a998-9d907ef43e31",
   "metadata": {},
   "outputs": [
    {
     "name": "stdout",
     "output_type": "stream",
     "text": [
      "78960\n"
     ]
    }
   ],
   "source": [
    "from operator import mul\n",
    "print(reduce(mul, sorted(counters, reverse=True)[:2], 1))"
   ]
  },
  {
   "cell_type": "markdown",
   "id": "14640b7c-ee2d-49f3-a49d-94f09e4f0f81",
   "metadata": {},
   "source": [
    "## #2"
   ]
  },
  {
   "cell_type": "markdown",
   "id": "01d14081-f1f6-4225-a1fc-5b81e8f5fa76",
   "metadata": {},
   "source": [
    "Comment: there is performance issue; after some rounds the worry levels reach very high values, so further computations get slow. In order to cope with that, we will trump the values: after each inspection, we will update ` worry_level = worry_level % lcm`, where `lcm` is least common multiple of all values monkeys use in their divisibility tests. That way, we will not change the results of further divisibility tests, but values will be significantly smaller."
   ]
  },
  {
   "cell_type": "code",
   "execution_count": 85,
   "id": "55410539-9a3b-4fb0-9e49-55892394dec1",
   "metadata": {},
   "outputs": [],
   "source": [
    "def lcm(x, y):\n",
    "    greater = max(x, y)\n",
    "    \n",
    "    while(True):\n",
    "        if((greater % x == 0) and (greater % y == 0)):\n",
    "            lcm = greater\n",
    "            break\n",
    "        greater += 1\n",
    "    return lcm"
   ]
  },
  {
   "cell_type": "code",
   "execution_count": 86,
   "id": "9ae3e499-2512-48db-8f47-04dedc981534",
   "metadata": {},
   "outputs": [],
   "source": [
    "monkeys = [Monkey(entry) for entry in monkeys_data]"
   ]
  },
  {
   "cell_type": "code",
   "execution_count": 87,
   "id": "c290c424-2390-4859-832b-3cc63fa22878",
   "metadata": {},
   "outputs": [],
   "source": [
    "monkeys_common_modulo = reduce(lcm, [m.divisibility_test for m in monkeys], 1)"
   ]
  },
  {
   "cell_type": "code",
   "execution_count": 88,
   "id": "3e7cd57e-0299-4818-bb3b-40e8d4567912",
   "metadata": {},
   "outputs": [],
   "source": [
    "n_rounds = 10000\n",
    "\n",
    "for r in range(n_rounds):\n",
    "    for i, monkey in enumerate(monkeys):\n",
    "        items_to_inspect = list(monkey.items)\n",
    "        for item in items_to_inspect:\n",
    "            new_item, target = monkey.inspect(item, relief=False)\n",
    "            new_item %= monkeys_common_modulo\n",
    "            monkey.items.pop(0)\n",
    "            monkeys[target].items.append(new_item)"
   ]
  },
  {
   "cell_type": "code",
   "execution_count": 89,
   "id": "41ea7e55-535c-43c4-bdac-63ed74c7dec3",
   "metadata": {},
   "outputs": [],
   "source": [
    "counters = [m.counter for m in monkeys]"
   ]
  },
  {
   "cell_type": "code",
   "execution_count": 90,
   "id": "18798646-fee3-4148-b475-4c82ddd751eb",
   "metadata": {},
   "outputs": [
    {
     "name": "stdout",
     "output_type": "stream",
     "text": [
      "14561971968\n"
     ]
    }
   ],
   "source": [
    "from operator import mul\n",
    "print(reduce(mul, sorted(counters, reverse=True)[:2], 1))"
   ]
  },
  {
   "cell_type": "markdown",
   "id": "af18ead9-8fa4-41d9-85db-6009e80f81e6",
   "metadata": {},
   "source": [
    "# day 12"
   ]
  },
  {
   "cell_type": "code",
   "execution_count": 91,
   "id": "6820c82a-765b-448a-b916-493687df6c2c",
   "metadata": {},
   "outputs": [],
   "source": [
    "with open(\"./inputs/puzzle_12_01.txt\") as f:\n",
    "    input_ = f.read().strip()"
   ]
  },
  {
   "cell_type": "code",
   "execution_count": 92,
   "id": "6b03ace9-d3d0-4b56-8a84-306f7c7bec7c",
   "metadata": {},
   "outputs": [],
   "source": [
    "heights = [[ord(char) for char in line] for line in input_.split(\"\\n\")]"
   ]
  },
  {
   "cell_type": "code",
   "execution_count": 93,
   "id": "5b940a24-278d-48cb-9cb8-2e5d7c4fc24c",
   "metadata": {},
   "outputs": [],
   "source": [
    "from itertools import product\n",
    "\n",
    "for i, j in product(range(len(heights)), range(len(heights[0]))):\n",
    "    if heights[i][j] == ord('S'):\n",
    "        starting_pos = (i, j)\n",
    "        heights[i][j] = ord('a')\n",
    "    elif heights[i][j] == ord('E'):\n",
    "        end_pos = (i, j)\n",
    "        heights[i][j] = ord('z')"
   ]
  },
  {
   "cell_type": "code",
   "execution_count": 94,
   "id": "cd367083-0365-48d2-afd9-f9c2c16784cf",
   "metadata": {},
   "outputs": [],
   "source": [
    "def possible_directions(i, j, heights):\n",
    "    \n",
    "    def can_go(i, j, direction, heights):\n",
    "        heights_shape = (len(heights), len(heights[0]))\n",
    "        x = i + direction[0]\n",
    "        y = j + direction[1]\n",
    "        return (\n",
    "            (0 <= x < heights_shape[0]) and\n",
    "            (0 <= y < heights_shape[1]) and\n",
    "            (heights[x][y] <= heights[i][j] + 1)\n",
    "        )\n",
    "    possible_directions = set()\n",
    "    for dir_vec in [(0, -1), (0, 1), (-1, 0), (1, 0)]:\n",
    "        if can_go(i, j, dir_vec, heights):\n",
    "            possible_directions.add((i+dir_vec[0], j+dir_vec[1]))\n",
    "    return possible_directions\n",
    "    "
   ]
  },
  {
   "cell_type": "code",
   "execution_count": 95,
   "id": "f071a9d7-3bbf-4f86-b89b-db6f882e1182",
   "metadata": {},
   "outputs": [],
   "source": [
    "def build_graph(heights):\n",
    "    graph = {(i, j): possible_directions(i, j, heights) for i, j in product(range(len(heights)), range(len(heights[0])))}\n",
    "    return graph"
   ]
  },
  {
   "cell_type": "markdown",
   "id": "a7681328-fc79-46fe-bfd3-357e2331f54a",
   "metadata": {},
   "source": [
    "## #1"
   ]
  },
  {
   "cell_type": "markdown",
   "id": "09548e0e-df63-4bc0-88f9-031f74702e71",
   "metadata": {},
   "source": [
    "Comment: we use 'flooding' approach: let's iterate over steps and inspect new reach for particular step in search of anding node."
   ]
  },
  {
   "cell_type": "code",
   "execution_count": 96,
   "id": "bbf99032-8870-471a-bfe4-854278ea3088",
   "metadata": {},
   "outputs": [
    {
     "name": "stdout",
     "output_type": "stream",
     "text": [
      "destination reached after 517 steps\n"
     ]
    }
   ],
   "source": [
    "graph = build_graph(heights)\n",
    "\n",
    "visited = set()\n",
    "current = set([starting_pos])\n",
    "steps = 0\n",
    "while True:\n",
    "    steps += 1\n",
    "    visited = set.union(visited, current)\n",
    "    current = set.union(*[graph[node] for node in current]) - visited\n",
    "    if end_pos in current:\n",
    "        print(f\"destination reached after {steps} steps\")\n",
    "        break"
   ]
  },
  {
   "cell_type": "markdown",
   "id": "9b0c2321-a2e9-4d47-89cd-b7ed5d05318e",
   "metadata": {},
   "source": [
    "## #2"
   ]
  },
  {
   "cell_type": "markdown",
   "id": "40cbcd69-f912-4b6d-9e55-122771ad9159",
   "metadata": {},
   "source": [
    "Comment: we use 'flooding' approach, but reversed: we flip directions in the graph and start from ending node in search for any node of height `a`."
   ]
  },
  {
   "cell_type": "code",
   "execution_count": 97,
   "id": "de8067e5-6373-464f-ae67-4b777c866f18",
   "metadata": {},
   "outputs": [],
   "source": [
    "graph2 = build_graph([[-heights[i][j] for j in range(len(heights[i]))] for i in range(len(heights))])"
   ]
  },
  {
   "cell_type": "code",
   "execution_count": 98,
   "id": "c1406fce-8010-4c89-ab8b-0239dae19fbf",
   "metadata": {},
   "outputs": [
    {
     "name": "stdout",
     "output_type": "stream",
     "text": [
      "destination reached after 512 steps\n"
     ]
    }
   ],
   "source": [
    "visited = set()\n",
    "current = set([end_pos])\n",
    "steps = 0\n",
    "while True:\n",
    "    steps += 1\n",
    "    visited = set.union(visited, current)\n",
    "    current = set.union(*[graph2[node] for node in current]) - visited\n",
    "    if ord('a') in [heights[node[0]][node[1]] for node in current]:\n",
    "        print(f\"destination reached after {steps} steps\")\n",
    "        break"
   ]
  },
  {
   "cell_type": "markdown",
   "id": "8955e487-1a9f-478b-bf0c-fea86ff6553b",
   "metadata": {},
   "source": [
    "# day 13"
   ]
  },
  {
   "cell_type": "code",
   "execution_count": 99,
   "id": "574d9cb9-874a-4f09-862e-34c0004ca4c2",
   "metadata": {},
   "outputs": [],
   "source": [
    "with open(\"./inputs/puzzle_13_01.txt\") as f:\n",
    "    input_ = f.read().strip()"
   ]
  },
  {
   "cell_type": "code",
   "execution_count": 100,
   "id": "ee738c27-6847-4b3d-8755-79fc3c61b3fc",
   "metadata": {},
   "outputs": [],
   "source": [
    "packet_pairs = [[eval(line) for line in lines_pair.split(\"\\n\")] for lines_pair in input_.split(\"\\n\\n\")]"
   ]
  },
  {
   "cell_type": "code",
   "execution_count": 101,
   "id": "0bac8c65-e753-4a04-bab4-ddc46f8673df",
   "metadata": {},
   "outputs": [],
   "source": [
    "def is_in_right_order(left, right):\n",
    "    # case 1: both are ints\n",
    "    if isinstance(left, int) and isinstance(right, int):\n",
    "        if left < right:\n",
    "            return True\n",
    "        elif left > right:\n",
    "            return False\n",
    "        else: return None\n",
    "    # case 2: at least one of them is list\n",
    "    left = [left] if isinstance(left, int) else left\n",
    "    right = [right] if isinstance(right, int) else right\n",
    "    \n",
    "    left_iter = iter(left)\n",
    "    right_iter = iter(right)\n",
    "    \n",
    "    left_over = False\n",
    "    right_over = False\n",
    "    \n",
    "    # iterate over lists\n",
    "    while True:\n",
    "        try:\n",
    "            next_left = next(left_iter)\n",
    "        except StopIteration:\n",
    "            left_over = True\n",
    "        try:\n",
    "            next_right = next(right_iter)\n",
    "        except StopIteration:\n",
    "            right_over = True\n",
    "        if left_over or right_over:\n",
    "            break\n",
    "        result = is_in_right_order(next_left, next_right)\n",
    "        if result is not None:\n",
    "            return result\n",
    "        \n",
    "    if left_over and right_over:\n",
    "        return None\n",
    "    elif left_over and (not right_over):\n",
    "        return True\n",
    "    else:\n",
    "        return False"
   ]
  },
  {
   "cell_type": "markdown",
   "id": "9597e837-68a5-482e-a1af-7a89d5b952db",
   "metadata": {},
   "source": [
    "## #1"
   ]
  },
  {
   "cell_type": "code",
   "execution_count": 102,
   "id": "9b73ebde-cab9-4ee4-83bf-01e647a10bd4",
   "metadata": {},
   "outputs": [],
   "source": [
    "correct_indices = []\n",
    "for i, pair in enumerate(packet_pairs):\n",
    "    if is_in_right_order(pair[0], pair[1]):\n",
    "        correct_indices.append(i+1)"
   ]
  },
  {
   "cell_type": "code",
   "execution_count": 103,
   "id": "37ee0d40-de63-413b-8c6d-34a17d89adcf",
   "metadata": {},
   "outputs": [
    {
     "data": {
      "text/plain": [
       "5623"
      ]
     },
     "execution_count": 103,
     "metadata": {},
     "output_type": "execute_result"
    }
   ],
   "source": [
    "sum(correct_indices)"
   ]
  },
  {
   "cell_type": "markdown",
   "id": "7e47b9c8-f298-4977-8a9f-c0b9cfaae53f",
   "metadata": {},
   "source": [
    "## #2"
   ]
  },
  {
   "cell_type": "code",
   "execution_count": 104,
   "id": "209dd3f9-b29b-49f5-b445-75d1aff965de",
   "metadata": {},
   "outputs": [],
   "source": [
    "from operator import add"
   ]
  },
  {
   "cell_type": "code",
   "execution_count": 105,
   "id": "b2a083f1-520b-4b73-b2f6-c0391f49067a",
   "metadata": {},
   "outputs": [],
   "source": [
    "divider_packets = [[[2]], [[6]]]\n",
    "all_packets = reduce(add, packet_pairs, []) + divider_packets"
   ]
  },
  {
   "cell_type": "code",
   "execution_count": 106,
   "id": "bd402f79-6742-4d33-b67b-0ded3a471774",
   "metadata": {},
   "outputs": [],
   "source": [
    "from random import randint\n",
    "\n",
    "def quicksort_packets(packets):\n",
    "    if len(packets) < 2:\n",
    "        return packets\n",
    "    low, same, high = [], [], []\n",
    "\n",
    "    pivot = packets[randint(0, len(packets) - 1)]\n",
    "\n",
    "    for item in packets:\n",
    "        if is_in_right_order(item, pivot)==True:\n",
    "            low.append(item)\n",
    "        elif is_in_right_order(item, pivot) is None:\n",
    "            same.append(item)\n",
    "        elif is_in_right_order(item, pivot)==False:\n",
    "            high.append(item)\n",
    "\n",
    "    return quicksort_packets(low) + same + quicksort_packets(high)"
   ]
  },
  {
   "cell_type": "code",
   "execution_count": 107,
   "id": "0771e527-9a11-4f7e-91ef-50e61a58e8f1",
   "metadata": {},
   "outputs": [],
   "source": [
    "sorted_packets = quicksort_packets(all_packets)"
   ]
  },
  {
   "cell_type": "code",
   "execution_count": 108,
   "id": "060ed21c-89a2-425c-b70b-6595c80e580b",
   "metadata": {},
   "outputs": [],
   "source": [
    "dividers_indices = []\n",
    "for ind, packet in enumerate(sorted_packets):\n",
    "    if packet in divider_packets:\n",
    "        dividers_indices.append(ind+1)"
   ]
  },
  {
   "cell_type": "code",
   "execution_count": 109,
   "id": "2b5e8230-c470-47a4-b665-150c1c3d7741",
   "metadata": {},
   "outputs": [
    {
     "name": "stdout",
     "output_type": "stream",
     "text": [
      "20570\n"
     ]
    }
   ],
   "source": [
    "from operator import mul\n",
    "print(reduce(mul, dividers_indices, 1))"
   ]
  },
  {
   "cell_type": "markdown",
   "id": "c371b99e-1f0c-4b1e-b4ff-d35ea39b0683",
   "metadata": {},
   "source": [
    "# day 14"
   ]
  },
  {
   "cell_type": "code",
   "execution_count": 110,
   "id": "ce449a17-33b3-44f4-a404-f4d4f19565ba",
   "metadata": {},
   "outputs": [],
   "source": [
    "with open(\"./inputs/puzzle_14_01.txt\") as f:\n",
    "    input_ = f.read().strip()"
   ]
  },
  {
   "cell_type": "code",
   "execution_count": 111,
   "id": "0e22105d-b6d3-4c7f-9b79-b162d490a74e",
   "metadata": {},
   "outputs": [],
   "source": [
    "vertices = [[tuple([int(c) for c in coords.split(\",\")]) for coords in line.split(\" -> \")] for line in input_.split(\"\\n\")]"
   ]
  },
  {
   "cell_type": "code",
   "execution_count": 112,
   "id": "1b882179-5964-401d-8fa3-6c3b13904be6",
   "metadata": {},
   "outputs": [],
   "source": [
    "void_level = 0\n",
    "for vertices_list in vertices:\n",
    "    for vertice in vertices_list:\n",
    "        if vertice[1] > void_level:\n",
    "            void_level = vertice[1]"
   ]
  },
  {
   "cell_type": "markdown",
   "id": "1d186ade-0180-4fc0-aeda-8232ee745a0c",
   "metadata": {},
   "source": [
    "## #1"
   ]
  },
  {
   "cell_type": "code",
   "execution_count": 113,
   "id": "84237673-9cf2-45c4-b857-1dfdc78b7187",
   "metadata": {},
   "outputs": [],
   "source": [
    "# add paths to occupied spots\n",
    "occupied_spots = set()\n",
    "for vertices_list in vertices:\n",
    "    for a, b in zip(vertices_list[:-1], vertices_list[1:]):\n",
    "        for i, j in product(\n",
    "            range(min(a[0], b[0]), max(a[0], b[0])+1),\n",
    "            range(min(a[1], b[1]), max(a[1], b[1])+1)\n",
    "        ):\n",
    "            occupied_spots.add((i, j))"
   ]
  },
  {
   "cell_type": "code",
   "execution_count": 114,
   "id": "5f85343f-53a3-4596-a76e-5cda7c11dfe0",
   "metadata": {},
   "outputs": [],
   "source": [
    "rested_sand_units = 0\n",
    "reached_void = False\n",
    "\n",
    "while not reached_void:\n",
    "    # new unit falling\n",
    "    current_spot = (500, 0)\n",
    "    while True:\n",
    "        # check spots directly below, below-left and below-right\n",
    "        # if free, go there. if none is free, rest\n",
    "        for next_spot in [\n",
    "            (current_spot[0], current_spot[1]+1), \n",
    "            (current_spot[0]-1, current_spot[1]+1), \n",
    "            (current_spot[0]+1, current_spot[1]+1)\n",
    "        ]:\n",
    "            if next_spot not in occupied_spots:\n",
    "                current_spot = next_spot\n",
    "                break\n",
    "         \n",
    "        # check if spot was updatet; if not, the spot rests\n",
    "        if current_spot == next_spot: # spot was updated; unit falls further, unless we reached void\n",
    "            if current_spot[1] == void_level:\n",
    "                reached_void = True\n",
    "                break\n",
    "            else:\n",
    "                continue\n",
    "        else: # spot was not updated = there was nowhere to go; add current spot to occupied_spots, proceed with new unit\n",
    "            occupied_spots.add(current_spot)\n",
    "            rested_sand_units += 1\n",
    "            break"
   ]
  },
  {
   "cell_type": "code",
   "execution_count": 115,
   "id": "cd84d939-dab3-4296-89ce-ae75780bfd92",
   "metadata": {},
   "outputs": [
    {
     "data": {
      "text/plain": [
       "793"
      ]
     },
     "execution_count": 115,
     "metadata": {},
     "output_type": "execute_result"
    }
   ],
   "source": [
    "rested_sand_units"
   ]
  },
  {
   "cell_type": "markdown",
   "id": "72b27fe5-d897-4b2a-9dee-b8f740172b31",
   "metadata": {},
   "source": [
    "## #2"
   ]
  },
  {
   "cell_type": "code",
   "execution_count": 116,
   "id": "876bd99a-b5eb-42b7-adc8-a8329fb3aea9",
   "metadata": {},
   "outputs": [],
   "source": [
    "floor_level = void_level + 2\n",
    "\n",
    "occupied_spots = set()\n",
    "for vertices_list in vertices:\n",
    "    for a, b in zip(vertices_list[:-1], vertices_list[1:]):\n",
    "        for i, j in product(\n",
    "            range(min(a[0], b[0]), max(a[0], b[0])+1),\n",
    "            range(min(a[1], b[1]), max(a[1], b[1])+1)\n",
    "        ):\n",
    "            occupied_spots.add((i, j))"
   ]
  },
  {
   "cell_type": "code",
   "execution_count": 117,
   "id": "f88733aa-047b-4983-95d5-e8674f42e6e1",
   "metadata": {},
   "outputs": [],
   "source": [
    "def is_occupied(candidate, occupied_spots, floor_level):\n",
    "    return (candidate in occupied_spots) or (candidate[1] == floor_level)"
   ]
  },
  {
   "cell_type": "code",
   "execution_count": 118,
   "id": "380d7fb7-49de-418e-be19-324fcc11b64f",
   "metadata": {},
   "outputs": [],
   "source": [
    "rested_sand_units = 0\n",
    "reached_source = False\n",
    "starting_spot = (500, 0)\n",
    "\n",
    "while not reached_source:\n",
    "    # new unit falling\n",
    "    current_spot = starting_spot\n",
    "    while True:\n",
    "        # check spots directly below, below-left and below-right\n",
    "        # if free, go there. if none is free, rest\n",
    "        for next_spot in [\n",
    "            (current_spot[0], current_spot[1]+1), \n",
    "            (current_spot[0]-1, current_spot[1]+1), \n",
    "            (current_spot[0]+1, current_spot[1]+1)\n",
    "        ]:\n",
    "            if not is_occupied(next_spot, occupied_spots, floor_level):\n",
    "                current_spot = next_spot\n",
    "                break\n",
    "         \n",
    "        # check if spot was updatet; if not, the spot rests\n",
    "        if current_spot == next_spot: # spot was updated; unit falls further\n",
    "            continue\n",
    "        else: # spot was not updated = there was nowhere to go; add current spot to occupied_spots, check if we reached source, if not: proceed with new unit\n",
    "            occupied_spots.add(current_spot)\n",
    "            rested_sand_units += 1\n",
    "            if current_spot == starting_spot:\n",
    "                reached_source = True\n",
    "            break"
   ]
  },
  {
   "cell_type": "code",
   "execution_count": 119,
   "id": "1a9cd96f-d376-4584-94a0-afc581e35b9a",
   "metadata": {},
   "outputs": [
    {
     "data": {
      "text/plain": [
       "24166"
      ]
     },
     "execution_count": 119,
     "metadata": {},
     "output_type": "execute_result"
    }
   ],
   "source": [
    "rested_sand_units"
   ]
  }
 ],
 "metadata": {
  "kernelspec": {
   "display_name": "Python 3 (ipykernel)",
   "language": "python",
   "name": "python3"
  },
  "language_info": {
   "codemirror_mode": {
    "name": "ipython",
    "version": 3
   },
   "file_extension": ".py",
   "mimetype": "text/x-python",
   "name": "python",
   "nbconvert_exporter": "python",
   "pygments_lexer": "ipython3",
   "version": "3.10.6"
  }
 },
 "nbformat": 4,
 "nbformat_minor": 5
}
