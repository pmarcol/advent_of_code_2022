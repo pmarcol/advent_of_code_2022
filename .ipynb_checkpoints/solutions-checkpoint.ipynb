{
 "cells": [
  {
   "cell_type": "markdown",
   "id": "3f869ac7-aca0-4123-bdec-af0f4eb2ad01",
   "metadata": {},
   "source": [
    "# day 1"
   ]
  },
  {
   "cell_type": "code",
   "execution_count": 15,
   "id": "5795836f-76f1-41e9-a09a-a26421fbbf9f",
   "metadata": {},
   "outputs": [],
   "source": [
    "with open(\"/Users/piotrek/Downloads/puzzle_01_01.txt\") as f:\n",
    "    input_ = f.read().strip()"
   ]
  },
  {
   "cell_type": "code",
   "execution_count": 20,
   "id": "0e26f856-7299-47ff-b3ff-16261e5a3da7",
   "metadata": {},
   "outputs": [],
   "source": [
    "values_per_elf = [[int(val) for val in entry.split(\"\\n\")] for entry in input_.split(\"\\n\\n\")]\n",
    "max_ = 0\n",
    "max_idx = 0\n",
    "for elf_idx, elf_vals in enumerate(values_per_elf):\n",
    "    if (t:=sum(elf_vals)) > max_:\n",
    "        max_ = t\n",
    "        max_idx = elf_idx"
   ]
  },
  {
   "cell_type": "markdown",
   "id": "6b1e1e9c-9d38-4862-a037-55cdf8d0ab75",
   "metadata": {},
   "source": [
    "## #1"
   ]
  },
  {
   "cell_type": "code",
   "execution_count": 22,
   "id": "be376260-1f08-46cc-9ee2-17a4f75c3854",
   "metadata": {},
   "outputs": [
    {
     "name": "stdout",
     "output_type": "stream",
     "text": [
      "elf number 68 has total of 71023 calories.\n"
     ]
    }
   ],
   "source": [
    "print(f\"elf number {max_idx} has total of {max_} calories.\")\n"
   ]
  },
  {
   "cell_type": "markdown",
   "id": "ffecb43a-c06c-41cf-8c63-62d197ac84a0",
   "metadata": {},
   "source": [
    "## #2"
   ]
  },
  {
   "cell_type": "code",
   "execution_count": 23,
   "id": "6b644e6d-f046-4214-b729-3a44a1034c7b",
   "metadata": {},
   "outputs": [],
   "source": [
    "elves_sums = [sum(elf_values) for elf_values in values_per_elf]"
   ]
  },
  {
   "cell_type": "code",
   "execution_count": 26,
   "id": "918b947f-7b38-458e-9420-ca2d33ce3c34",
   "metadata": {},
   "outputs": [
    {
     "data": {
      "text/plain": [
       "206289"
      ]
     },
     "execution_count": 26,
     "metadata": {},
     "output_type": "execute_result"
    }
   ],
   "source": [
    "sum(sorted(elves_sums)[-3:])"
   ]
  },
  {
   "cell_type": "markdown",
   "id": "0de4cf8a-36b8-4591-8651-a1371be758be",
   "metadata": {},
   "source": [
    "# day 2"
   ]
  },
  {
   "cell_type": "code",
   "execution_count": 27,
   "id": "cb5cd1ed-c6e0-46bf-9d81-cdaf25b6d308",
   "metadata": {},
   "outputs": [],
   "source": [
    "with open(\"/Users/piotrek/Downloads/puzzle_02_01.txt\") as f:\n",
    "    input_ = f.read().strip()"
   ]
  },
  {
   "cell_type": "markdown",
   "id": "abf7e62d-9823-46b0-bbd2-18e210afd324",
   "metadata": {},
   "source": [
    "## #1"
   ]
  },
  {
   "cell_type": "code",
   "execution_count": 75,
   "id": "5c1f2292-628f-479d-a6fb-45c849b6c9eb",
   "metadata": {},
   "outputs": [],
   "source": [
    "# mapping\n",
    "# [R, P, S]\n",
    "mapping_1 = ['A', 'B', 'C']\n",
    "mapping_2_to_1 = {'X': 'A', 'Y': 'B', 'Z': 'C'}\n",
    "points_per_gesture = [1, 2, 3]\n",
    "\n",
    "points_for_outcome = [3, 6, 0] # [idx0: points_for_draw, idx1: points_for_win, idx2=idx-1: points_for_lose]"
   ]
  },
  {
   "cell_type": "code",
   "execution_count": 82,
   "id": "f87ee753-894d-4459-acac-9ae733db65ed",
   "metadata": {},
   "outputs": [],
   "source": [
    "def pointer(in1, in2, use_2_to_1_mapping=False):\n",
    "    rel_matrix = [[0, 1, -1], [-1, 0, 1], [1, -1, 0]]\n",
    "    idx1 = mapping_1.index(in1)\n",
    "    idx2 = mapping_1.index(mapping_2_to_1[in2]) if use_2_to_1_mapping else mapping_1.index(in2)\n",
    "    outcome = rel_matrix[idx1][idx2]\n",
    "    points = points_for_outcome[outcome] + points_per_gesture[idx2]\n",
    "    return points"
   ]
  },
  {
   "cell_type": "code",
   "execution_count": 86,
   "id": "79b0c10e-93ee-4f19-87f8-26bb7929df6c",
   "metadata": {},
   "outputs": [
    {
     "data": {
      "text/plain": [
       "9651"
      ]
     },
     "execution_count": 86,
     "metadata": {},
     "output_type": "execute_result"
    }
   ],
   "source": [
    "sum([pointer(*line.split(\" \"), True) for line in input_.split(\"\\n\")])"
   ]
  },
  {
   "cell_type": "markdown",
   "id": "6980a8d2-ff85-4cdc-a6b7-cc5155a850c5",
   "metadata": {},
   "source": [
    "## #2"
   ]
  },
  {
   "cell_type": "code",
   "execution_count": 103,
   "id": "46f60c8b-7d02-4bad-9f80-cc8f72060cb9",
   "metadata": {},
   "outputs": [],
   "source": [
    "mapping_outcome = {'X': -1, 'Y': 0, 'Z': 1}\n",
    "p1_gestures = [line[0] for line in input_.split(\"\\n\")]\n",
    "desired_outcomes = [line[2] for line in input_.split(\"\\n\")]"
   ]
  },
  {
   "cell_type": "code",
   "execution_count": 89,
   "id": "1d8bf18f-2d0e-41a0-81ee-d9427e2f57b1",
   "metadata": {},
   "outputs": [],
   "source": [
    "def get_desired_gesture(p1_gesture, desired_outcome):\n",
    "    idx1 = mapping_1.index(p1_gesture)\n",
    "    idx2 = (idx1 + mapping_outcome[desired_outcome]) % 3\n",
    "    return mapping_1[idx2]"
   ]
  },
  {
   "cell_type": "code",
   "execution_count": 106,
   "id": "e7849ec5-ffe3-45e9-bc15-9065ef1bc667",
   "metadata": {},
   "outputs": [],
   "source": [
    "desired_gestures = [get_desired_gesture(p1_g, do) for p1_g, do in zip(p1_gestures, desired_outcomes)]"
   ]
  },
  {
   "cell_type": "code",
   "execution_count": 108,
   "id": "1f2228f6-91c8-4679-9012-da04ee54cc07",
   "metadata": {},
   "outputs": [
    {
     "data": {
      "text/plain": [
       "10560"
      ]
     },
     "execution_count": 108,
     "metadata": {},
     "output_type": "execute_result"
    }
   ],
   "source": [
    "sum([pointer(p1_g, p2_g, False) for p1_g, p2_g in zip(p1_gestures, desired_gestures)])"
   ]
  },
  {
   "cell_type": "markdown",
   "id": "89c96fd2-0df4-4eae-99c2-5a8c369f9aaa",
   "metadata": {},
   "source": [
    "# day 3"
   ]
  },
  {
   "cell_type": "code",
   "execution_count": null,
   "id": "f15314f3-f171-45dc-acf8-8bf26a80a4ca",
   "metadata": {},
   "outputs": [],
   "source": [
    "  "
   ]
  }
 ],
 "metadata": {
  "kernelspec": {
   "display_name": "Python 3 (ipykernel)",
   "language": "python",
   "name": "python3"
  },
  "language_info": {
   "codemirror_mode": {
    "name": "ipython",
    "version": 3
   },
   "file_extension": ".py",
   "mimetype": "text/x-python",
   "name": "python",
   "nbconvert_exporter": "python",
   "pygments_lexer": "ipython3",
   "version": "3.10.6"
  }
 },
 "nbformat": 4,
 "nbformat_minor": 5
}
